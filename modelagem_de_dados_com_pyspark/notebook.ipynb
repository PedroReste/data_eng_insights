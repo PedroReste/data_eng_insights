{
 "cells": [
  {
   "cell_type": "code",
   "execution_count": null,
   "id": "b2723e54",
   "metadata": {},
   "outputs": [],
   "source": [
    "from pyspark.sql import SparkSession\n",
    "from pyspark.sql.window import Window\n",
    "from pyspark.sql.functions import col, row_number\n",
    "\n",
    "spark = SparkSession.builder \\\n",
    "    .appName(\"CSV_to_Parquet\") \\\n",
    "    .getOrCreate()\n"
   ]
  },
  {
   "cell_type": "code",
   "execution_count": 3,
   "id": "212d5c86",
   "metadata": {},
   "outputs": [],
   "source": [
    "olist_customers = spark.read.option(\"header\", True).csv(\"olist_customers_dataset.csv\")\n",
    "olist_orders = spark.read.option(\"header\", True).csv(\"olist_orders_dataset.csv\")\n",
    "olist_order_reviews = spark.read.option(\"header\", True).csv(\"olist_order_reviews_dataset.csv\")\n",
    "olist_order_items = spark.read.option(\"header\", True).csv(\"olist_order_items_dataset.csv\")\n",
    "olist_sellers = spark.read.option(\"header\", True).csv(\"olist_sellers_dataset.csv\")\n",
    "olist_products = spark.read.option(\"header\", True).csv(\"olist_products_dataset.csv\")"
   ]
  },
  {
   "cell_type": "code",
   "execution_count": 12,
   "id": "d3de541f",
   "metadata": {},
   "outputs": [
    {
     "data": {
      "text/plain": [
       "'olist_customers.write.mode(\"overwrite\").parquet(\"olist_customers_dataset.parquet\")\\nolist_orders.write.mode(\"overwrite\").parquet(\"olist_orders_dataset.parquet\")\\nolist_order_reviews.write.mode(\"overwrite\").parquet(\"olist_order_reviews_dataset.parquet\")\\nolist_order_items.write.mode(\"overwrite\").parquet(\"olist_order_items_dataset.parquet\")\\nolist_sellers.write.mode(\"overwrite\").parquet(\"olist_sellers_dataset.parquet\")\\nolist_products.write.mode(\"overwrite\").parquet(\"olist_products_dataset.parquet\")'"
      ]
     },
     "execution_count": 12,
     "metadata": {},
     "output_type": "execute_result"
    }
   ],
   "source": [
    "\"\"\"olist_customers.write.mode(\"overwrite\").parquet(\"olist_customers_dataset.parquet\")\n",
    "olist_orders.write.mode(\"overwrite\").parquet(\"olist_orders_dataset.parquet\")\n",
    "olist_order_reviews.write.mode(\"overwrite\").parquet(\"olist_order_reviews_dataset.parquet\")\n",
    "olist_order_items.write.mode(\"overwrite\").parquet(\"olist_order_items_dataset.parquet\")\n",
    "olist_sellers.write.mode(\"overwrite\").parquet(\"olist_sellers_dataset.parquet\")\n",
    "olist_products.write.mode(\"overwrite\").parquet(\"olist_products_dataset.parquet\")\"\"\""
   ]
  },
  {
   "cell_type": "code",
   "execution_count": 13,
   "id": "a5d1f914",
   "metadata": {},
   "outputs": [
    {
     "name": "stdout",
     "output_type": "stream",
     "text": [
      "root\n",
      " |-- customer_id: string (nullable = true)\n",
      " |-- customer_unique_id: string (nullable = true)\n",
      " |-- customer_zip_code_prefix: string (nullable = true)\n",
      " |-- customer_city: string (nullable = true)\n",
      " |-- customer_state: string (nullable = true)\n",
      "\n",
      "root\n",
      " |-- order_id: string (nullable = true)\n",
      " |-- customer_id: string (nullable = true)\n",
      " |-- order_status: string (nullable = true)\n",
      " |-- order_purchase_timestamp: string (nullable = true)\n",
      " |-- order_approved_at: string (nullable = true)\n",
      " |-- order_delivered_carrier_date: string (nullable = true)\n",
      " |-- order_delivered_customer_date: string (nullable = true)\n",
      " |-- order_estimated_delivery_date: string (nullable = true)\n",
      "\n",
      "root\n",
      " |-- review_id: string (nullable = true)\n",
      " |-- order_id: string (nullable = true)\n",
      " |-- review_score: string (nullable = true)\n",
      " |-- review_comment_title: string (nullable = true)\n",
      " |-- review_comment_message: string (nullable = true)\n",
      " |-- review_creation_date: string (nullable = true)\n",
      " |-- review_answer_timestamp: string (nullable = true)\n",
      "\n",
      "root\n",
      " |-- order_id: string (nullable = true)\n",
      " |-- order_item_id: string (nullable = true)\n",
      " |-- product_id: string (nullable = true)\n",
      " |-- seller_id: string (nullable = true)\n",
      " |-- shipping_limit_date: string (nullable = true)\n",
      " |-- price: string (nullable = true)\n",
      " |-- freight_value: string (nullable = true)\n",
      "\n",
      "root\n",
      " |-- seller_id: string (nullable = true)\n",
      " |-- seller_zip_code_prefix: string (nullable = true)\n",
      " |-- seller_city: string (nullable = true)\n",
      " |-- seller_state: string (nullable = true)\n",
      "\n",
      "root\n",
      " |-- product_id: string (nullable = true)\n",
      " |-- product_category_name: string (nullable = true)\n",
      " |-- product_name_lenght: string (nullable = true)\n",
      " |-- product_description_lenght: string (nullable = true)\n",
      " |-- product_photos_qty: string (nullable = true)\n",
      " |-- product_weight_g: string (nullable = true)\n",
      " |-- product_length_cm: string (nullable = true)\n",
      " |-- product_height_cm: string (nullable = true)\n",
      " |-- product_width_cm: string (nullable = true)\n",
      "\n"
     ]
    }
   ],
   "source": [
    "datasets = [olist_customers, olist_orders, olist_order_reviews, \n",
    "            olist_order_items, olist_sellers, olist_products]\n",
    "for df in datasets:\n",
    "    df.printSchema()"
   ]
  },
  {
   "cell_type": "code",
   "execution_count": 8,
   "id": "405e43cd",
   "metadata": {},
   "outputs": [
    {
     "name": "stdout",
     "output_type": "stream",
     "text": [
      "+--------------------+---------------------+-------------------+--------------------------+------------------+----------------+-----------------+-----------------+----------------+\n",
      "|          product_id|product_category_name|product_name_lenght|product_description_lenght|product_photos_qty|product_weight_g|product_length_cm|product_height_cm|product_width_cm|\n",
      "+--------------------+---------------------+-------------------+--------------------------+------------------+----------------+-----------------+-----------------+----------------+\n",
      "|1e9e8ef04dbcff454...|           perfumaria|                 40|                       287|                 1|             225|               16|               10|              14|\n",
      "|3aa071139cb16b67c...|                artes|                 44|                       276|                 1|            1000|               30|               18|              20|\n",
      "|96bd76ec8810374ed...|        esporte_lazer|                 46|                       250|                 1|             154|               18|                9|              15|\n",
      "|cef67bcfe19066a93...|                bebes|                 27|                       261|                 1|             371|               26|                4|              26|\n",
      "|9dc1a7de274444849...| utilidades_domest...|                 37|                       402|                 4|             625|               20|               17|              13|\n",
      "+--------------------+---------------------+-------------------+--------------------------+------------------+----------------+-----------------+-----------------+----------------+\n",
      "only showing top 5 rows\n",
      "\n"
     ]
    }
   ],
   "source": [
    "olist_products.show(5)"
   ]
  },
  {
   "cell_type": "code",
   "execution_count": 22,
   "id": "36fd9e65",
   "metadata": {},
   "outputs": [
    {
     "name": "stdout",
     "output_type": "stream",
     "text": [
      "+--------------------+--------+\n",
      "|           categoria|produtos|\n",
      "+--------------------+--------+\n",
      "|     cama_mesa_banho|    3029|\n",
      "|       esporte_lazer|    2867|\n",
      "|    moveis_decoracao|    2657|\n",
      "|        beleza_saude|    2444|\n",
      "|utilidades_domest...|    2335|\n",
      "|          automotivo|    1900|\n",
      "|informatica_acess...|    1639|\n",
      "|          brinquedos|    1411|\n",
      "|  relogios_presentes|    1329|\n",
      "|           telefonia|    1134|\n",
      "|               bebes|     919|\n",
      "|          perfumaria|     868|\n",
      "|fashion_bolsas_e_...|     849|\n",
      "|           papelaria|     849|\n",
      "|          cool_stuff|     789|\n",
      "|  ferramentas_jardim|     753|\n",
      "|            pet_shop|     719|\n",
      "|                NULL|     610|\n",
      "|         eletronicos|     517|\n",
      "|construcao_ferram...|     400|\n",
      "+--------------------+--------+\n",
      "only showing top 20 rows\n",
      "\n"
     ]
    }
   ],
   "source": [
    "olist_products.createOrReplaceTempView(\"products\")\n",
    "\n",
    "query = spark.sql(\"\"\"\n",
    "    SELECT \n",
    "        product_category_name AS categoria,\n",
    "        COUNT(DISTINCT product_id) AS produtos\n",
    "    FROM products\n",
    "    GROUP BY product_category_name\n",
    "    SORT BY produtos DESC\n",
    "\"\"\")\n",
    "\n",
    "query.show()"
   ]
  },
  {
   "cell_type": "code",
   "execution_count": 16,
   "id": "1d798bd1",
   "metadata": {},
   "outputs": [
    {
     "name": "stdout",
     "output_type": "stream",
     "text": [
      "+--------+---------+\n",
      "|produtos|categoria|\n",
      "+--------+---------+\n",
      "|   32951|       73|\n",
      "+--------+---------+\n",
      "\n"
     ]
    }
   ],
   "source": [
    "olist_products.createOrReplaceTempView(\"products\")\n",
    "\n",
    "query = spark.sql(\"\"\"\n",
    "    SELECT COUNT(DISTINCT product_id) AS produtos,\n",
    "           COUNT(DISTINCT product_category_name) AS categoria\n",
    "    FROM products\n",
    "\"\"\")\n",
    "\n",
    "query.show()"
   ]
  },
  {
   "cell_type": "code",
   "execution_count": 2,
   "id": "88c85f60",
   "metadata": {},
   "outputs": [
    {
     "name": "stdout",
     "output_type": "stream",
     "text": [
      "+-------------+----------+------+----+\n",
      "|employee_name|department|salary|rank|\n",
      "+-------------+----------+------+----+\n",
      "|        Frank|        RH|  6200|   1|\n",
      "|        Grace|        RH|  6100|   2|\n",
      "|          Eve|        RH|  6000|   3|\n",
      "|          Bob|        TI|  7000|   1|\n",
      "|        Carol|        TI|  6500|   2|\n",
      "|        Alice|        TI|  5000|   3|\n",
      "+-------------+----------+------+----+\n",
      "\n"
     ]
    }
   ],
   "source": [
    "# Inicializando a SparkSession\n",
    "spark = SparkSession.builder.appName(\"Top3Salaries\").getOrCreate()\n",
    "\n",
    "# Criando o DataFrame de exemplo\n",
    "data = [\n",
    "    (\"Alice\", \"TI\", 5000),\n",
    "    (\"Bob\", \"TI\", 7000),\n",
    "    (\"Carol\", \"TI\", 6500),\n",
    "    (\"Dave\", \"RH\", 4500),\n",
    "    (\"Eve\", \"RH\", 6000),\n",
    "    (\"Frank\", \"RH\", 6200),\n",
    "    (\"Grace\", \"RH\", 6100)\n",
    "]\n",
    "df = spark.createDataFrame(data, [\"employee_name\", \"department\", \"salary\"])\n",
    "\n",
    "# Definindo a janela particionada por departamento\n",
    "window_spec = Window.partitionBy(\"department\").orderBy(col(\"salary\").desc())\n",
    "\n",
    "# Criando a coluna de ranking\n",
    "df = df.withColumn(\"rank\", row_number().over(window_spec))\n",
    "\n",
    "# Filtrando os top 3 por departamento\n",
    "df.filter(col(\"rank\") <= 3).show()"
   ]
  }
 ],
 "metadata": {
  "kernelspec": {
   "display_name": "Python 3",
   "language": "python",
   "name": "python3"
  },
  "language_info": {
   "codemirror_mode": {
    "name": "ipython",
    "version": 3
   },
   "file_extension": ".py",
   "mimetype": "text/x-python",
   "name": "python",
   "nbconvert_exporter": "python",
   "pygments_lexer": "ipython3",
   "version": "3.11.9"
  }
 },
 "nbformat": 4,
 "nbformat_minor": 5
}
