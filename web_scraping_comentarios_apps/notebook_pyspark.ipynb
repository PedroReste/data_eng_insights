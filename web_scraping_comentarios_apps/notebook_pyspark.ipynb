{
 "cells": [
  {
   "cell_type": "markdown",
   "id": "663fa9d3",
   "metadata": {},
   "source": [
    "# **Extração Simples de Comentários da App Store e Play Store**\n",
    "Esse notebook trás uma forma simples de coleta de dados das principais lojas de aplicativos utilizando uma biblioteca de scrapp para dados da Google Play e uma API pública da Apple.\n",
    "\n",
    "| Aplicativo | Play Store ID           | App Store ID |\n",
    "| ---------- | ----------------------- | ------------ | \n",
    "| Claro      | com.nvt.cs              | 526829675    |\n",
    "| TIM        | br.com.timbrasil.meutim | 668591218    |\n",
    "| Vivo       | br.com.vivo             | 475915064    |\n",
    "\n"
   ]
  },
  {
   "cell_type": "code",
   "execution_count": null,
   "id": "4fb99866",
   "metadata": {},
   "outputs": [],
   "source": [
    "import requests\n",
    "import time\n",
    "from google_play_scraper import Sort, reviews\n",
    "from pyspark.sql import SparkSession\n",
    "from pyspark.sql.window import Window\n",
    "from pyspark.sql import functions as F\n",
    "spark = SparkSession.builder.appName(\"session\").getOrCreate()\n",
    "spark.conf.set(\"spark.sql.adaptive.enable\", \"true\")"
   ]
  },
  {
   "cell_type": "markdown",
   "id": "849f5c65",
   "metadata": {},
   "source": [
    "**Play Store**"
   ]
  },
  {
   "cell_type": "code",
   "execution_count": 16,
   "id": "b15434ea",
   "metadata": {},
   "outputs": [
    {
     "name": "stdout",
     "output_type": "stream",
     "text": [
      "+-----+------+--------------------+-------------------+--------------------+-------------------+-------------+----------+\n",
      "|  app|system|               score|            content|         app_version|               date|reply_content|reply_date|\n",
      "+-----+------+--------------------+-------------------+--------------------+-------------------+-------------+----------+\n",
      "|Claro|18.7.0|           muito boa|2025-05-30 21:20:05|                NULL|               NULL|            3|   Android|\n",
      "|Claro|18.7.0|           ótimo app|2025-05-30 21:19:34|                NULL|               NULL|            5|   Android|\n",
      "|Claro|18.8.0|muito fácil de in...|2025-05-30 21:18:09|                NULL|               NULL|            5|   Android|\n",
      "|Claro|18.6.0|atende as necessi...|2025-05-30 21:05:18|                NULL|               NULL|            5|   Android|\n",
      "|Claro|18.7.0|Otimo app! (14/05...|2025-05-30 20:34:54|Olá, Elisabete! E...|2023-04-26 12:22:22|            5|   Android|\n",
      "+-----+------+--------------------+-------------------+--------------------+-------------------+-------------+----------+\n",
      "only showing top 5 rows\n",
      "\n"
     ]
    }
   ],
   "source": [
    "qtd_comentarios = 5000\n",
    "\n",
    "dados_android = []\n",
    "\n",
    "apps = {\n",
    "    \"Claro\": \"com.nvt.cs\",\n",
    "    \"TIM\": \"br.com.timbrasil.meutim\",\n",
    "    \"Vivo\": \"br.com.vivo\"\n",
    "}\n",
    "\n",
    "for app, app_id in apps.items():\n",
    "    result, _ = reviews(\n",
    "        app_id,\n",
    "        lang='pt',\n",
    "        country='br',\n",
    "        sort=Sort.NEWEST,\n",
    "        count=qtd_comentarios\n",
    "    )\n",
    "        \n",
    "    for review in result:\n",
    "        dados_android.append({\n",
    "            \"app\": app,\n",
    "            \"system\": \"Android\",\n",
    "            \"score\": review.get(\"score\", None),\n",
    "            \"content\": review.get(\"content\", None),\n",
    "            \"app_version\": review.get(\"appVersion\", None),\n",
    "            \"date\": review.get(\"at\", None),\n",
    "            \"reply_content\": review.get(\"replyContent\", None),\n",
    "            \"reply_date\": review.get(\"repliedAt\", None)\n",
    "        })\n",
    "\n",
    "comentarios_android = spark.createDataFrame(dados_android, schema=[\"app\", \"system\", \"score\", \"content\",\n",
    "                                                           \"app_version\", \"date\", \"reply_content\", \"reply_date\"])\n",
    "\n",
    "comentarios_android.show(5)"
   ]
  },
  {
   "cell_type": "markdown",
   "id": "9281d633",
   "metadata": {},
   "source": [
    "**Dados App Store** \\\n",
    "Observação: A API pública permite coletar no máxinmo 10 páginas de comentários"
   ]
  },
  {
   "cell_type": "code",
   "execution_count": 7,
   "id": "5da7bbcd",
   "metadata": {},
   "outputs": [
    {
     "name": "stdout",
     "output_type": "stream",
     "text": [
      "Sem mais comentários na página 5 para o app Claro.\n",
      "Sem mais comentários na página 6 para o app TIM.\n",
      "Pausa após coletar 10 páginas do app Vivo...\n",
      "Erro ao acessar página 11 do app Vivo: Expecting value: line 1 column 1 (char 0)\n",
      "+-----+-------+--------------------+-------+-----------+\n",
      "|  app| system|               score|content|app_version|\n",
      "+-----+-------+--------------------+-------+-----------+\n",
      "|Claro|17.53.0|Tenho essa aplica...|      1|        iOS|\n",
      "|Claro|17.48.0|Poluído, muito ru...|      1|        iOS|\n",
      "|Claro|17.46.0|App is not at all...|      1|        iOS|\n",
      "|Claro|17.27.0|Boa tarde, sou cl...|      4|        iOS|\n",
      "|Claro|17.26.0|Ate hoje nao ha s...|      1|        iOS|\n",
      "+-----+-------+--------------------+-------+-----------+\n",
      "only showing top 5 rows\n",
      "\n"
     ]
    }
   ],
   "source": [
    "page = 100\n",
    "dados_ios = []\n",
    "\n",
    "apps = {\n",
    "    \"Claro\": \"526829675\",\n",
    "    \"TIM\": \"668591218\",\n",
    "    \"Vivo\": \"475915064\"\n",
    "}\n",
    "\n",
    "for app, app_id in apps.items():\n",
    "    for p in range(1, page + 1):  # Coletar da página 1 até o limite máximo\n",
    "        url = f'https://itunes.apple.com/rss/customerreviews/page={p}/id={app_id}/sortby=mostrecent/json'\n",
    "        \n",
    "        try:\n",
    "            response = requests.get(url)\n",
    "            data = response.json()\n",
    "        except Exception as e:\n",
    "            print(f\"Erro ao acessar página {p} do app {app}: {e}\")\n",
    "            break\n",
    "\n",
    "        # Se não houver mais comentários, para o loop\n",
    "        if \"feed\" not in data or \"entry\" not in data[\"feed\"]:\n",
    "            print(f\"Sem mais comentários na página {p} para o app {app}.\")\n",
    "            break\n",
    "\n",
    "        for entry in data[\"feed\"][\"entry\"][1:]:  # Ignora o primeiro, que são infos do app\n",
    "            dados_ios.append({\n",
    "                \"app\": app,\n",
    "                \"system\": \"iOS\",\n",
    "                \"score\": entry['im:rating']['label'],\n",
    "                \"content\": entry['content']['label'],\n",
    "                \"app_version\": entry['im:version']['label']\n",
    "            })\n",
    "\n",
    "        if p % 10 == 0:\n",
    "            print(f\"Pausa após coletar {p} páginas do app {app}...\")\n",
    "            time.sleep(5)\n",
    "\n",
    "comentarios_ios = spark.createDataFrame(dados_ios, schema=[\"app\", \"system\", \"score\", \"content\", \"app_version\"])\n",
    "\n",
    "comentarios_ios.show(5)"
   ]
  },
  {
   "cell_type": "code",
   "execution_count": 17,
   "id": "e9882af0",
   "metadata": {},
   "outputs": [
    {
     "data": {
      "text/plain": [
       "(15000, 900, 15900)"
      ]
     },
     "execution_count": 17,
     "metadata": {},
     "output_type": "execute_result"
    }
   ],
   "source": [
    "#Juntando as bases\n",
    "comentarios = comentarios_android.unionByName(comentarios_ios, allowMissingColumns=True)\n",
    "comentarios_android.count(), comentarios_ios.count(), comentarios.count()"
   ]
  },
  {
   "cell_type": "code",
   "execution_count": 18,
   "id": "3e5df9b5",
   "metadata": {},
   "outputs": [],
   "source": [
    "comentarios.write.mode(\"overwrite\").parquet(\"comentarios.parquet\")"
   ]
  }
 ],
 "metadata": {
  "kernelspec": {
   "display_name": "Python 3",
   "language": "python",
   "name": "python3"
  },
  "language_info": {
   "codemirror_mode": {
    "name": "ipython",
    "version": 3
   },
   "file_extension": ".py",
   "mimetype": "text/x-python",
   "name": "python",
   "nbconvert_exporter": "python",
   "pygments_lexer": "ipython3",
   "version": "3.10.0"
  }
 },
 "nbformat": 4,
 "nbformat_minor": 5
}
