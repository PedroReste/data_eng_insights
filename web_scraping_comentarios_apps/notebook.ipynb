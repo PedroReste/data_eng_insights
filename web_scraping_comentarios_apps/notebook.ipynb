{
 "cells": [
  {
   "cell_type": "markdown",
   "id": "13ce69f4",
   "metadata": {},
   "source": [
    "# Tiktok"
   ]
  },
  {
   "cell_type": "code",
   "execution_count": 2,
   "id": "f0c9ca10",
   "metadata": {},
   "outputs": [],
   "source": [
    "from TikTokApi import TikTokApi"
   ]
  },
  {
   "cell_type": "code",
   "execution_count": null,
   "id": "e0f128a4",
   "metadata": {},
   "outputs": [
    {
     "ename": "TypeError",
     "evalue": "'TikTokApi' object does not support the context manager protocol",
     "output_type": "error",
     "traceback": [
      "\u001b[1;31m---------------------------------------------------------------------------\u001b[0m",
      "\u001b[1;31mTypeError\u001b[0m                                 Traceback (most recent call last)",
      "Cell \u001b[1;32mIn[4], line 1\u001b[0m\n\u001b[1;32m----> 1\u001b[0m \u001b[38;5;28;43;01mwith\u001b[39;49;00m\u001b[43m \u001b[49m\u001b[43mTikTokApi\u001b[49m\u001b[43m(\u001b[49m\u001b[43m)\u001b[49m\u001b[43m \u001b[49m\u001b[38;5;28;43;01mas\u001b[39;49;00m\u001b[43m \u001b[49m\u001b[43mapi\u001b[49m\u001b[43m:\u001b[49m\n\u001b[0;32m      2\u001b[0m \u001b[43m    \u001b[49m\u001b[43mvideo\u001b[49m\u001b[43m \u001b[49m\u001b[38;5;241;43m=\u001b[39;49m\u001b[43m \u001b[49m\u001b[43mapi\u001b[49m\u001b[38;5;241;43m.\u001b[39;49m\u001b[43mvideo\u001b[49m\u001b[43m(\u001b[49m\u001b[38;5;28;43mid\u001b[39;49m\u001b[38;5;241;43m=\u001b[39;49m\u001b[38;5;124;43m\"\u001b[39;49m\u001b[38;5;124;43m7496257463709109509\u001b[39;49m\u001b[38;5;124;43m\"\u001b[39;49m\u001b[43m)\u001b[49m\u001b[43m  \u001b[49m\u001b[38;5;66;43;03m# ID do vídeo\u001b[39;49;00m\n\u001b[0;32m      3\u001b[0m \u001b[43m    \u001b[49m\u001b[43mcomments\u001b[49m\u001b[43m \u001b[49m\u001b[38;5;241;43m=\u001b[39;49m\u001b[43m \u001b[49m\u001b[43mvideo\u001b[49m\u001b[38;5;241;43m.\u001b[39;49m\u001b[43mcomments\u001b[49m\u001b[43m(\u001b[49m\u001b[43mcount\u001b[49m\u001b[38;5;241;43m=\u001b[39;49m\u001b[38;5;241;43m10\u001b[39;49m\u001b[43m)\u001b[49m\n",
      "\u001b[1;31mTypeError\u001b[0m: 'TikTokApi' object does not support the context manager protocol"
     ]
    }
   ],
   "source": [
    "with TikTokApi() as api:\n",
    "    video = api.video(id=\"7496257463709109509\")  # ID do vídeo\n",
    "    comments = video.comments(count=10)\n",
    "    \n",
    "    for comment in comments:\n",
    "        print(comment.text)"
   ]
  },
  {
   "cell_type": "code",
   "execution_count": null,
   "id": "06895d29",
   "metadata": {},
   "outputs": [],
   "source": [
    "from TikTokApi import TikTokApi\n",
    "import asyncio\n",
    "import os\n",
    "\n",
    "ms_token = os.environ.get(\"ms_token\", None) # get your own ms_token from your cookies on tiktok.com\n",
    "\n",
    "async def trending_videos():\n",
    "    async with TikTokApi() as api:\n",
    "        await api.create_sessions(ms_tokens=[ms_token], num_sessions=1, sleep_after=3, browser=os.getenv(\"TIKTOK_BROWSER\", \"chromium\"))\n",
    "        async for video in api.trending.videos(count=30):\n",
    "            print(video)\n",
    "            print(video.as_dict)\n",
    "\n",
    "if __name__ == \"__main__\":\n",
    "    asyncio.run(trending_videos())"
   ]
  },
  {
   "cell_type": "code",
   "execution_count": 1,
   "id": "89ca1791",
   "metadata": {},
   "outputs": [
    {
     "name": "stdout",
     "output_type": "stream",
     "text": [
      "+-------------+----------+------+----+\n",
      "|employee_name|department|salary|rank|\n",
      "+-------------+----------+------+----+\n",
      "|        Frank|        RH|  6200|   1|\n",
      "|        Grace|        RH|  6100|   2|\n",
      "|          Eve|        RH|  6000|   3|\n",
      "|          Bob|        TI|  7000|   1|\n",
      "|        Carol|        TI|  6500|   2|\n",
      "|        Alice|        TI|  5000|   3|\n",
      "+-------------+----------+------+----+\n",
      "\n"
     ]
    }
   ],
   "source": [
    "from pyspark.sql import SparkSession\n",
    "from pyspark.sql.window import Window\n",
    "from pyspark.sql.functions import col, row_number\n",
    "\n",
    "# Inicializando a SparkSession\n",
    "spark = SparkSession.builder.appName(\"Top3Salaries\").getOrCreate()\n",
    "\n",
    "# Criando o DataFrame de exemplo\n",
    "data = [\n",
    "    (\"Alice\", \"TI\", 5000),\n",
    "    (\"Bob\", \"TI\", 7000),\n",
    "    (\"Carol\", \"TI\", 6500),\n",
    "    (\"Dave\", \"RH\", 4500),\n",
    "    (\"Eve\", \"RH\", 6000),\n",
    "    (\"Frank\", \"RH\", 6200),\n",
    "    (\"Grace\", \"RH\", 6100)\n",
    "]\n",
    "df = spark.createDataFrame(data, [\"employee_name\", \"department\", \"salary\"])\n",
    "\n",
    "# Definindo a janela particionada por departamento\n",
    "window_spec = Window.partitionBy(\"department\").orderBy(col(\"salary\").desc())\n",
    "\n",
    "# Criando a coluna de ranking\n",
    "df = df.withColumn(\"rank\", row_number().over(window_spec))\n",
    "\n",
    "# Filtrando os top 3 por departamento\n",
    "df.filter(col(\"rank\") <= 3).show()\n",
    "\n"
   ]
  },
  {
   "cell_type": "markdown",
   "id": "0a8beff9",
   "metadata": {},
   "source": [
    "# Google Play Store"
   ]
  },
  {
   "cell_type": "code",
   "execution_count": null,
   "id": "2ea74cac",
   "metadata": {},
   "outputs": [],
   "source": [
    "from google_play_scraper import Sort, reviews\n",
    "\n",
    "result, _ = reviews(\n",
    "    'com.whatsapp',  # ID do app\n",
    "    lang='pt',        # Idioma dos comentários\n",
    "    country='br',     # País\n",
    "    sort=Sort.NEWEST, # Ordenação\n",
    "    count=10          # Número de comentários\n",
    ")\n",
    "\n",
    "for review in result:\n",
    "    print(f\"{review['userName']}: {review['content']}\")\n"
   ]
  },
  {
   "cell_type": "code",
   "execution_count": null,
   "id": "06da9e03",
   "metadata": {},
   "outputs": [],
   "source": [
    "const store = require('app-store-scraper');\n",
    "\n",
    "store.reviews({\n",
    "  id: 310633997, // ID do app, ex: Facebook\n",
    "  sort: store.sort.RECENT,\n",
    "  num: 10,\n",
    "  country: 'br'\n",
    "}).then(console.log);"
   ]
  }
 ],
 "metadata": {
  "kernelspec": {
   "display_name": "Python 3",
   "language": "python",
   "name": "python3"
  },
  "language_info": {
   "codemirror_mode": {
    "name": "ipython",
    "version": 3
   },
   "file_extension": ".py",
   "mimetype": "text/x-python",
   "name": "python",
   "nbconvert_exporter": "python",
   "pygments_lexer": "ipython3",
   "version": "3.11.9"
  }
 },
 "nbformat": 4,
 "nbformat_minor": 5
}
