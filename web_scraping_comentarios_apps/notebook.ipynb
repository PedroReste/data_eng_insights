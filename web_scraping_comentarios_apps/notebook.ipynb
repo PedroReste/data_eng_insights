{
 "cells": [
  {
   "cell_type": "markdown",
   "id": "663fa9d3",
   "metadata": {},
   "source": [
    "| Aplicativo | Play Store ID           | App Store ID |\n",
    "| ---------- | ----------------------- | ------------ | \n",
    "| Claro      | com.nvt.cs              | 526829675    |\n",
    "| TIM        | br.com.timbrasil.meutim | 668591218    |\n",
    "| Vivo       | br.com.vivo             | 475915064    |\n",
    "\n"
   ]
  },
  {
   "cell_type": "code",
   "execution_count": 2,
   "id": "57494b2d",
   "metadata": {},
   "outputs": [],
   "source": [
    "import requests\n",
    "import pandas as pd\n",
    "from google_play_scraper import Sort, reviews"
   ]
  },
  {
   "cell_type": "markdown",
   "id": "73ccdbf2",
   "metadata": {},
   "source": [
    "Tem como pegar versão do app?"
   ]
  },
  {
   "cell_type": "markdown",
   "id": "849f5c65",
   "metadata": {},
   "source": [
    "**Dados Play Store**"
   ]
  },
  {
   "cell_type": "code",
   "execution_count": 3,
   "id": "76bce870",
   "metadata": {},
   "outputs": [
    {
     "data": {
      "text/html": [
       "<div>\n",
       "<style scoped>\n",
       "    .dataframe tbody tr th:only-of-type {\n",
       "        vertical-align: middle;\n",
       "    }\n",
       "\n",
       "    .dataframe tbody tr th {\n",
       "        vertical-align: top;\n",
       "    }\n",
       "\n",
       "    .dataframe thead th {\n",
       "        text-align: right;\n",
       "    }\n",
       "</style>\n",
       "<table border=\"1\" class=\"dataframe\">\n",
       "  <thead>\n",
       "    <tr style=\"text-align: right;\">\n",
       "      <th></th>\n",
       "      <th>app</th>\n",
       "      <th>system</th>\n",
       "      <th>user</th>\n",
       "      <th>score</th>\n",
       "      <th>content</th>\n",
       "    </tr>\n",
       "  </thead>\n",
       "  <tbody>\n",
       "    <tr>\n",
       "      <th>0</th>\n",
       "      <td>Claro</td>\n",
       "      <td>Android</td>\n",
       "      <td>deivissom peixoto</td>\n",
       "      <td>2</td>\n",
       "      <td>ótimo</td>\n",
       "    </tr>\n",
       "    <tr>\n",
       "      <th>1</th>\n",
       "      <td>Claro</td>\n",
       "      <td>Android</td>\n",
       "      <td>Deyvid Boyka</td>\n",
       "      <td>1</td>\n",
       "      <td>qual dificuldade do app indentificar chip e en...</td>\n",
       "    </tr>\n",
       "    <tr>\n",
       "      <th>2</th>\n",
       "      <td>Claro</td>\n",
       "      <td>Android</td>\n",
       "      <td>Danilo e Ana Esther Gomes</td>\n",
       "      <td>5</td>\n",
       "      <td>me ajuda de mais</td>\n",
       "    </tr>\n",
       "    <tr>\n",
       "      <th>3</th>\n",
       "      <td>Claro</td>\n",
       "      <td>Android</td>\n",
       "      <td>Andre luiz Oliveira monteiro</td>\n",
       "      <td>5</td>\n",
       "      <td>muito bom o app instalado .</td>\n",
       "    </tr>\n",
       "    <tr>\n",
       "      <th>4</th>\n",
       "      <td>Claro</td>\n",
       "      <td>Android</td>\n",
       "      <td>Gilvan Sousa</td>\n",
       "      <td>4</td>\n",
       "      <td>tá atendendo bem mim demanda</td>\n",
       "    </tr>\n",
       "  </tbody>\n",
       "</table>\n",
       "</div>"
      ],
      "text/plain": [
       "     app   system                          user  score  \\\n",
       "0  Claro  Android             deivissom peixoto      2   \n",
       "1  Claro  Android                  Deyvid Boyka      1   \n",
       "2  Claro  Android     Danilo e Ana Esther Gomes      5   \n",
       "3  Claro  Android  Andre luiz Oliveira monteiro      5   \n",
       "4  Claro  Android                  Gilvan Sousa      4   \n",
       "\n",
       "                                             content  \n",
       "0                                              ótimo  \n",
       "1  qual dificuldade do app indentificar chip e en...  \n",
       "2                                   me ajuda de mais  \n",
       "3                        muito bom o app instalado .  \n",
       "4                       tá atendendo bem mim demanda  "
      ]
     },
     "execution_count": 3,
     "metadata": {},
     "output_type": "execute_result"
    }
   ],
   "source": [
    "qtd_comentarios = 1000\n",
    "\n",
    "dados_android = []\n",
    "\n",
    "apps = {\n",
    "    \"Claro\": \"com.nvt.cs\",\n",
    "    \"TIM\": \"br.com.timbrasil.meutim\",\n",
    "    \"Vivo\": \"br.com.vivo\"\n",
    "}\n",
    "\n",
    "for app, app_id in apps.items():\n",
    "    result, _ = reviews(\n",
    "        app_id,\n",
    "        lang='pt',\n",
    "        country='br',\n",
    "        sort=Sort.NEWEST,\n",
    "        count=qtd_comentarios\n",
    "    )\n",
    "        \n",
    "    for review in result:\n",
    "        dados_android.append({\n",
    "            \"app\": app,\n",
    "            \"system\": \"Android\",\n",
    "            \"user\": review.get(\"userName\", None),\n",
    "            \"score\": review.get(\"score\", None),\n",
    "            \"content\": review.get(\"content\", None)\n",
    "        })\n",
    "\n",
    "comentarios_android = pd.DataFrame(dados_android, columns=[\"app\", \"system\", \"user\", \"score\", \"content\"])\n",
    "\n",
    "comentarios_android.head()"
   ]
  },
  {
   "cell_type": "markdown",
   "id": "9281d633",
   "metadata": {},
   "source": [
    "**Dados App Store**"
   ]
  },
  {
   "cell_type": "code",
   "execution_count": 7,
   "id": "66c0a4de",
   "metadata": {},
   "outputs": [
    {
     "data": {
      "text/html": [
       "<div>\n",
       "<style scoped>\n",
       "    .dataframe tbody tr th:only-of-type {\n",
       "        vertical-align: middle;\n",
       "    }\n",
       "\n",
       "    .dataframe tbody tr th {\n",
       "        vertical-align: top;\n",
       "    }\n",
       "\n",
       "    .dataframe thead th {\n",
       "        text-align: right;\n",
       "    }\n",
       "</style>\n",
       "<table border=\"1\" class=\"dataframe\">\n",
       "  <thead>\n",
       "    <tr style=\"text-align: right;\">\n",
       "      <th></th>\n",
       "      <th>app</th>\n",
       "      <th>system</th>\n",
       "      <th>user</th>\n",
       "      <th>score</th>\n",
       "      <th>content</th>\n",
       "    </tr>\n",
       "  </thead>\n",
       "  <tbody>\n",
       "    <tr>\n",
       "      <th>0</th>\n",
       "      <td>Vivo</td>\n",
       "      <td>iOS</td>\n",
       "      <td>Gustavo Txas</td>\n",
       "      <td>1</td>\n",
       "      <td>Esse App, pelo menos pra mim, ainda não funcio...</td>\n",
       "    </tr>\n",
       "    <tr>\n",
       "      <th>1</th>\n",
       "      <td>Vivo</td>\n",
       "      <td>iOS</td>\n",
       "      <td>ffalcao16</td>\n",
       "      <td>2</td>\n",
       "      <td>A proposta do app é boa, mas a cada consulta q...</td>\n",
       "    </tr>\n",
       "    <tr>\n",
       "      <th>2</th>\n",
       "      <td>Vivo</td>\n",
       "      <td>iOS</td>\n",
       "      <td>gabizago</td>\n",
       "      <td>1</td>\n",
       "      <td>Mesmo com o app, segue nao funcionando a conta...</td>\n",
       "    </tr>\n",
       "    <tr>\n",
       "      <th>3</th>\n",
       "      <td>Vivo</td>\n",
       "      <td>iOS</td>\n",
       "      <td>Riic</td>\n",
       "      <td>2</td>\n",
       "      <td>Muito útil o aplicativo se funcionasse !\\nPrec...</td>\n",
       "    </tr>\n",
       "    <tr>\n",
       "      <th>4</th>\n",
       "      <td>Vivo</td>\n",
       "      <td>iOS</td>\n",
       "      <td>Allannvictor</td>\n",
       "      <td>5</td>\n",
       "      <td>Recomendo!</td>\n",
       "    </tr>\n",
       "  </tbody>\n",
       "</table>\n",
       "</div>"
      ],
      "text/plain": [
       "    app system          user score  \\\n",
       "0  Vivo    iOS  Gustavo Txas     1   \n",
       "1  Vivo    iOS     ffalcao16     2   \n",
       "2  Vivo    iOS      gabizago     1   \n",
       "3  Vivo    iOS          Riic     2   \n",
       "4  Vivo    iOS  Allannvictor     5   \n",
       "\n",
       "                                             content  \n",
       "0  Esse App, pelo menos pra mim, ainda não funcio...  \n",
       "1  A proposta do app é boa, mas a cada consulta q...  \n",
       "2  Mesmo com o app, segue nao funcionando a conta...  \n",
       "3  Muito útil o aplicativo se funcionasse !\\nPrec...  \n",
       "4                                         Recomendo!  "
      ]
     },
     "execution_count": 7,
     "metadata": {},
     "output_type": "execute_result"
    }
   ],
   "source": [
    "page = 10\n",
    "\n",
    "dados_ios = []\n",
    "\n",
    "apps = {\n",
    "    \"Claro\": \"526829675\",\n",
    "    \"TIM\": \"668591218\",\n",
    "    \"Vivo\": \"475915064\"\n",
    "}\n",
    "\n",
    "for app, id in apps.items():\n",
    "\n",
    "    url = f'https://itunes.apple.com/rss/customerreviews/page={page}/id={id}/sortby=mostrecent/json'\n",
    "    response = requests.get(url)\n",
    "    data = response.json()\n",
    "\n",
    "    if \"feed\" in data and \"entry\" in data[\"feed\"]:\n",
    "        for entry in data[\"feed\"][\"entry\"][1:]: #1 é informações do app\n",
    "            dados_ios.append({\n",
    "                \"app\": app,\n",
    "                \"system\": \"iOS\",\n",
    "                \"user\": entry['author']['name']['label'],\n",
    "                \"score\": entry['im:rating']['label'],\n",
    "                \"content\": entry['content']['label']\n",
    "            })\n",
    "\n",
    "comentarios_ios = pd.DataFrame(dados_ios, columns=[\"app\", \"system\", \"user\", \"score\", \"content\"])\n",
    "\n",
    "comentarios_ios.head()"
   ]
  },
  {
   "cell_type": "code",
   "execution_count": 8,
   "id": "e9882af0",
   "metadata": {},
   "outputs": [
    {
     "data": {
      "text/plain": [
       "((3000, 5), (21, 5), (3021, 5))"
      ]
     },
     "execution_count": 8,
     "metadata": {},
     "output_type": "execute_result"
    }
   ],
   "source": [
    "comentarios = pd.concat([comentarios_android, comentarios_ios], ignore_index=True)\n",
    "comentarios_android.shape, comentarios_ios.shape, comentarios.shape"
   ]
  }
 ],
 "metadata": {
  "kernelspec": {
   "display_name": "Python 3",
   "language": "python",
   "name": "python3"
  },
  "language_info": {
   "codemirror_mode": {
    "name": "ipython",
    "version": 3
   },
   "file_extension": ".py",
   "mimetype": "text/x-python",
   "name": "python",
   "nbconvert_exporter": "python",
   "pygments_lexer": "ipython3",
   "version": "3.13.3"
  }
 },
 "nbformat": 4,
 "nbformat_minor": 5
}
